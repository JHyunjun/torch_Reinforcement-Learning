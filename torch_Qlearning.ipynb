{
  "nbformat": 4,
  "nbformat_minor": 0,
  "metadata": {
    "colab": {
      "name": "torch_Qlearning.ipynb",
      "private_outputs": true,
      "provenance": [],
      "collapsed_sections": [],
      "authorship_tag": "ABX9TyO6DYmM/b85+P2A8dIvgYBl",
      "include_colab_link": true
    },
    "kernelspec": {
      "name": "python3",
      "display_name": "Python 3"
    },
    "language_info": {
      "name": "python"
    }
  },
  "cells": [
    {
      "cell_type": "markdown",
      "metadata": {
        "id": "view-in-github",
        "colab_type": "text"
      },
      "source": [
        "<a href=\"https://colab.research.google.com/github/JHyunjun/torch_Reinforcement-Learning/blob/main/torch_Qlearning.ipynb\" target=\"_parent\"><img src=\"https://colab.research.google.com/assets/colab-badge.svg\" alt=\"Open In Colab\"/></a>"
      ]
    },
    {
      "cell_type": "code",
      "execution_count": null,
      "metadata": {
        "id": "agl_Lx1DRPYT"
      },
      "outputs": [],
      "source": [
        "import numpy as np\n",
        "\n",
        "#Training Hyper Parameter\n",
        "gamma = 0.75\n",
        "alpha = 0.9"
      ]
    },
    {
      "cell_type": "code",
      "source": [
        "# Defining the states\n",
        "location_to_state = {'A': 0,\n",
        "                     'B': 1,\n",
        "                     'C': 2,\n",
        "                     'D': 3,\n",
        "                     'E': 4,\n",
        "                     'F': 5,\n",
        "                     'G': 6,\n",
        "                     'H': 7,\n",
        "                     'I': 8,\n",
        "                     'J': 9,\n",
        "                     'K': 10,\n",
        "                     'L': 11}\n",
        "\n",
        "actions = [0, 1, 2, 3, 4, 5, 6, 7, 8, 9, 10, 11]"
      ],
      "metadata": {
        "id": "_bhjauprRiya"
      },
      "execution_count": null,
      "outputs": []
    },
    {
      "cell_type": "code",
      "source": [
        "#Rewards\n",
        "R = np.array([[0,1,0,0,0,0,0,0,0,0,0,0],\n",
        "              [1,0,1,0,0,1,0,0,0,0,0,0],\n",
        "              [0,1,0,0,0,0,1,0,0,0,0,0],\n",
        "              [0,0,0,0,0,0,0,1,0,0,0,0],\n",
        "              [0,0,0,0,0,0,0,0,1,0,0,0],\n",
        "              [0,1,0,0,0,0,0,0,0,1,0,0],\n",
        "              [0,0,1,0,0,0,1000,1,0,0,0,0],\n",
        "              [0,0,0,1,0,0,1,0,0,0,0,1],\n",
        "              [0,0,0,0,1,0,0,0,0,1,0,0],\n",
        "              [0,0,0,0,0,1,0,0,1,0,1,0],\n",
        "              [0,0,0,0,0,0,0,0,0,1,0,1],\n",
        "              [0,0,0,0,0,0,0,1,0,0,1,0]])"
      ],
      "metadata": {
        "id": "pSKOLV9gRkGi"
      },
      "execution_count": null,
      "outputs": []
    },
    {
      "cell_type": "code",
      "source": [
        "# Making Q-table by Bermann Equation\n",
        "Q = np.array(np.zeros([12,12]))\n",
        "N = 1000 # iterations\n",
        "\n",
        "for i in range(N) : \n",
        "  current_state = np.random.randint(0, 12) #학습시 출발점 랜덤임\n",
        "  playable_actions = []\n",
        "\n",
        "  for j in range(12) : \n",
        "    if R[current_state,j] > 0 : #현재 상태에서 보상을 받는 사건들 append저장\n",
        "      playable_actions.append(j)\n",
        "\n",
        "  next_state = np.random.choice(playable_actions) #next_state = a_t, 보상을 받는 행위들 중 랜덤하게 동작 선택\n",
        "\n",
        "  TD = R[current_state, next_state] + gamma * Q[next_state, np.argmax(Q[next_state, ])] - Q[current_state, next_state]\n",
        "  Q[current_state, next_state] = Q[current_state, next_state] + alpha * TD\n",
        "    \n"
      ],
      "metadata": {
        "id": "kVR_4BmPRyGq"
      },
      "execution_count": null,
      "outputs": []
    },
    {
      "cell_type": "code",
      "source": [
        "# Q - table 완성\n",
        "print(\"Q table : \", Q.astype(int))"
      ],
      "metadata": {
        "id": "CshDNFEfVWCQ"
      },
      "execution_count": null,
      "outputs": []
    },
    {
      "cell_type": "code",
      "source": [
        ""
      ],
      "metadata": {
        "id": "MjIv09buVjtp"
      },
      "execution_count": null,
      "outputs": []
    }
  ]
}