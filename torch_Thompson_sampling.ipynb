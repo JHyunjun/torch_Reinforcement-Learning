{
  "nbformat": 4,
  "nbformat_minor": 0,
  "metadata": {
    "colab": {
      "name": "torch_Thompson sampling.ipynb",
      "private_outputs": true,
      "provenance": [],
      "collapsed_sections": [],
      "authorship_tag": "ABX9TyOg+3ij6Jw4PN+09phR0qKb",
      "include_colab_link": true
    },
    "kernelspec": {
      "name": "python3",
      "display_name": "Python 3"
    },
    "language_info": {
      "name": "python"
    }
  },
  "cells": [
    {
      "cell_type": "markdown",
      "metadata": {
        "id": "view-in-github",
        "colab_type": "text"
      },
      "source": [
        "<a href=\"https://colab.research.google.com/github/JHyunjun/torch_Reinforcement-Learning/blob/main/torch_Thompson_sampling.ipynb\" target=\"_parent\"><img src=\"https://colab.research.google.com/assets/colab-badge.svg\" alt=\"Open In Colab\"/></a>"
      ]
    },
    {
      "cell_type": "code",
      "execution_count": null,
      "metadata": {
        "id": "4m2fjSim094t"
      },
      "outputs": [],
      "source": [
        "import numpy as np\n",
        "\n",
        "#5개의 Slot Machine에 대한 성공확률들\n",
        "Prob = [0.15, 0.04, 0.13, 0.11, 0.05]\n",
        "tr = 1000\n",
        "Prob_len = len(Prob)\n",
        "\n",
        "#Slot Machine 돌림\n",
        "X = np.zeros((tr, Prob_len))\n",
        "for i in range(tr) : \n",
        "  for j in range(Prob_len) : \n",
        "    if np.random.rand() < Prob[j] : \n",
        "      X[i][j] = 1"
      ]
    },
    {
      "cell_type": "code",
      "source": [
        "nPosReward = np.zeros(Prob_len)\n",
        "nNegReward = np.zeros(Prob_len)\n",
        "\n",
        "for i in range(tr) : \n",
        "  selected = 0\n",
        "  MaxRandom = 0\n",
        "  for j in range(Prob_len) : \n",
        "    ts_beta = np.random.beta(nPosReward[j] + 1, nNegReward[j] + 1)\n",
        "    if(ts_beta > MaxRandom) : \n",
        "      MaxRandom = ts_beta\n",
        "      selected = j\n",
        "\n",
        "  if X[i][selected] == 1 : nPosReward[selected] += 1\n",
        "  else : nNegReward[selected] +=1"
      ],
      "metadata": {
        "id": "IyGBvVUH19jO"
      },
      "execution_count": null,
      "outputs": []
    },
    {
      "cell_type": "code",
      "source": [
        "Best_slot = nPosReward + nNegReward\n",
        "Best_slot = np.argmax(Best_slot)\n",
        "print(Best_slot)\n",
        "Best_slot_reward = np.argmax(nPosReward)\n",
        "print(Best_slot_reward)"
      ],
      "metadata": {
        "id": "eo0_BQHs2neW"
      },
      "execution_count": null,
      "outputs": []
    }
  ]
}