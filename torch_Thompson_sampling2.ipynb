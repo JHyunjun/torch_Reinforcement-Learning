{
  "nbformat": 4,
  "nbformat_minor": 0,
  "metadata": {
    "colab": {
      "name": "torch_Thompson sampling2.ipynb",
      "private_outputs": true,
      "provenance": [],
      "collapsed_sections": [],
      "authorship_tag": "ABX9TyPogdVf6iyhQ5T3meQY+bDG",
      "include_colab_link": true
    },
    "kernelspec": {
      "name": "python3",
      "display_name": "Python 3"
    },
    "language_info": {
      "name": "python"
    }
  },
  "cells": [
    {
      "cell_type": "markdown",
      "metadata": {
        "id": "view-in-github",
        "colab_type": "text"
      },
      "source": [
        "<a href=\"https://colab.research.google.com/github/JHyunjun/torch_Reinforcement-Learning/blob/main/torch_Thompson_sampling2.ipynb\" target=\"_parent\"><img src=\"https://colab.research.google.com/assets/colab-badge.svg\" alt=\"Open In Colab\"/></a>"
      ]
    },
    {
      "cell_type": "code",
      "execution_count": null,
      "metadata": {
        "id": "4m2fjSim094t"
      },
      "outputs": [],
      "source": [
        "import numpy as np\n",
        "import random\n",
        "import matplotlib.pyplot as plt\n",
        "\n",
        "#9개의 Slot Machine에 대한 성공확률들\n",
        "Prob = [0.05, 0.13, 0.09, 0.16, 0.11, 0.04, 0.2, 0.08, 0.01]\n",
        "tr = 1000\n",
        "Prob_len = len(Prob)\n",
        "\n",
        "#Slot Machine 돌림\n",
        "X = np.zeros((tr, Prob_len))\n",
        "for i in range(tr) :  \n",
        "  for j in range(Prob_len) : \n",
        "    if np.random.rand() < Prob[j] : \n",
        "      X[i][j] = 1"
      ]
    },
    {
      "cell_type": "code",
      "source": [
        "strategies_selected_rs = []\n",
        "strategies_selected_ts = []\n",
        "total_reward_rs = 0\n",
        "total_reward_ts = 0\n",
        "numbers_of_rewards_1 = np.zeros(Prob_len)\n",
        "numbers_of_rewards_0 = np.zeros(Prob_len)"
      ],
      "metadata": {
        "id": "IyGBvVUH19jO"
      },
      "execution_count": null,
      "outputs": []
    },
    {
      "cell_type": "code",
      "source": [
        "for n in range(0, tr) :\n",
        "\n",
        "  #Random Sampling\n",
        "  strategy_rs = random.randrange(Prob_len)\n",
        "  strategies_selected_rs.append(strategy_rs)\n",
        "  reward_rs = X[n, strategy_rs]\n",
        "  total_reward_rs = total_reward_rs + reward_rs\n",
        "\n",
        "  strategy_ts = 0\n",
        "  max_random = 0\n",
        "\n",
        "  for i in range(0, Prob_len) :  \n",
        "    random_beta = random.betavariate(numbers_of_rewards_1[i] + 1 , numbers_of_rewards_0[i] + 1) #betavariate : Beta Distribution에서 무작위 값을 추출\n",
        "\n",
        "    if random_beta > max_random : \n",
        "      max_random = random_beta\n",
        "      strategy_ts = i\n",
        "\n",
        "      reward_ts = X[n, strategy_ts]\n",
        "\n",
        "      if reward_ts == 1 : \n",
        "        numbers_of_rewards_1[strategy_ts] += 1\n",
        "      else : \n",
        "        numbers_of_rewards_0[strategy_ts] += 1\n",
        "\n",
        "      strategies_selected_ts.append(strategy_ts)\n",
        "      total_reward_ts += reward_ts"
      ],
      "metadata": {
        "id": "_QmWRjVwIkoQ"
      },
      "execution_count": null,
      "outputs": []
    },
    {
      "cell_type": "code",
      "source": [
        "print(\"Thompson Accuracy : \",total_reward_ts)\n",
        "print(\"Random Sampling Accuracy : \",total_reward_rs)\n",
        "relative_return = (total_reward_ts - total_reward_rs) / total_reward_rs * 100\n",
        "print(relative_return, \"%\")"
      ],
      "metadata": {
        "id": "09ZezlVIO-2d"
      },
      "execution_count": null,
      "outputs": []
    }
  ]
}